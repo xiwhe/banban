{
 "cells": [
  {
   "cell_type": "markdown",
   "metadata": {},
   "source": [
    "# 导入tushare"
   ]
  },
  {
   "cell_type": "code",
   "execution_count": null,
   "metadata": {},
   "outputs": [],
   "source": [
    "import tushare as ts\n",
    "import pandas as pd\n",
    "import decimal\n",
    "from decimal import Decimal\n",
    "from datetime import datetime\n",
    "import time"
   ]
  },
  {
   "cell_type": "markdown",
   "metadata": {},
   "source": [
    "# 初始化pro接口"
   ]
  },
  {
   "cell_type": "code",
   "execution_count": null,
   "metadata": {},
   "outputs": [],
   "source": [
    "pro = ts.pro_api('ec30ba0eb5f07c64bf98162161fd2009bbd3ca48b7c02f3a81b99f97')"
   ]
  },
  {
   "cell_type": "markdown",
   "metadata": {},
   "source": [
    "# 查询当前所有正常上市交易的股票列表"
   ]
  },
  {
   "cell_type": "code",
   "execution_count": null,
   "metadata": {},
   "outputs": [],
   "source": [
    "stockBasicData = pro.stock_basic(exchange='', list_status='L')"
   ]
  },
  {
   "cell_type": "code",
   "execution_count": null,
   "metadata": {},
   "outputs": [],
   "source": [
    "print(type(stockBasicData.columns.values),stockBasicData.columns.values)\n",
    "#print(stockBasicData[\"industry\"].value_counts())"
   ]
  },
  {
   "cell_type": "markdown",
   "metadata": {},
   "source": [
    "# 获取当年交易日历"
   ]
  },
  {
   "cell_type": "code",
   "execution_count": null,
   "metadata": {},
   "outputs": [],
   "source": [
    "today = (datetime.now().strftime('%Y%m%d'))\n",
    "yearStart = ((datetime.now().strftime('%Y'))+\"0101\")\n",
    "yearEnd = (datetime.now().strftime('%Y'))+\"1231\"\n",
    "nextDay = \"\"\n",
    "trade_daily = pro.trade_cal(exchange='', start_date=yearStart, end_date=yearEnd)\n",
    "\n",
    "tradeCalendar=list()\n",
    "for row in trade_daily.itertuples():\n",
    "    if getattr(row, 'is_open') == 1:\n",
    "        tradeCalendar.append(getattr(row, 'cal_date'))\n",
    "\n",
    "yesterday = tradeCalendar[tradeCalendar.index(today) - 1]\n",
    "print(yesterday)"
   ]
  },
  {
   "cell_type": "markdown",
   "metadata": {},
   "source": [
    "# 获取股票所属市场"
   ]
  },
  {
   "cell_type": "code",
   "execution_count": null,
   "metadata": {},
   "outputs": [],
   "source": [
    "def getMarketOfStock(ts_code):\n",
    "    for row in stockBasicData.itertuples():\n",
    "        if getattr(row, 'ts_code') == ts_code:\n",
    "            return getattr(row, 'market')"
   ]
  },
  {
   "cell_type": "markdown",
   "metadata": {},
   "source": [
    "# 获取股票基本信息"
   ]
  },
  {
   "cell_type": "code",
   "execution_count": null,
   "metadata": {},
   "outputs": [],
   "source": [
    "def getBasicOfStock(ts_code):\n",
    "    for row in stockBasicData.itertuples():\n",
    "        if getattr(row, 'ts_code') == ts_code:\n",
    "            area = getattr(row, 'area')\n",
    "            industry = getattr(row, 'industry')\n",
    "            name = getattr(row, 'name')\n",
    "            return area, industry, name"
   ]
  },
  {
   "cell_type": "markdown",
   "metadata": {},
   "source": [
    "# 获取涨停板系数"
   ]
  },
  {
   "cell_type": "code",
   "execution_count": null,
   "metadata": {},
   "outputs": [],
   "source": [
    "def getIncrease(market):\n",
    "    if market == '主板':\n",
    "        return '1.1'\n",
    "    elif market == '中小板':\n",
    "        return '1.1'\n",
    "    elif market == '创业板':\n",
    "        return '1.2'\n",
    "    elif market == '科创板':\n",
    "        return '1.2'\n",
    "    elif market == 'CDR':\n",
    "        return '1.2'\n",
    "    elif market == '北交所':\n",
    "        return '1.3'\n",
    "    else :\n",
    "        return '0'\n",
    "    "
   ]
  },
  {
   "cell_type": "markdown",
   "metadata": {},
   "source": [
    "# 涨停板判断"
   ]
  },
  {
   "cell_type": "code",
   "execution_count": null,
   "metadata": {},
   "outputs": [],
   "source": [
    "decimal.getcontext().rounding = \"ROUND_HALF_UP\"\n",
    "\n",
    "def isGoodJobCal(openPrice,closePrice, increase):\n",
    "    limitUp = (Decimal(str(openPrice))*Decimal(increase)).quantize(decimal.Decimal(\"0.00\"))\n",
    "    if Decimal(str(closePrice)) == limitUp:\n",
    "        return True\n",
    "    else :\n",
    "        return False"
   ]
  },
  {
   "cell_type": "code",
   "execution_count": null,
   "metadata": {},
   "outputs": [],
   "source": []
  },
  {
   "cell_type": "markdown",
   "metadata": {},
   "source": [
    "# 计算涨停板"
   ]
  },
  {
   "cell_type": "code",
   "execution_count": null,
   "metadata": {},
   "outputs": [],
   "source": [
    "def cal_banban_daily(data):\n",
    "    banTotolAmount = 0\n",
    "    marketTotolAmount = 0\n",
    "    pd.set_option('display.max_rows', None)\n",
    "    zhangtingdata = pd.DataFrame(columns=['ts_code', 'name', 'amount', 'area', 'industry'], index=[])\n",
    "\n",
    "    for row in data.itertuples():\n",
    "        marketTotolAmount +=getattr(row, 'amount') \n",
    "        if getattr(row, 'high') == getattr(row, 'close'):\n",
    "            if isGoodJobCal(getattr(row, 'pre_close'), getattr(row, 'close'),getIncrease(getMarketOfStock(getattr(row, 'ts_code')))):\n",
    "                banTotolAmount +=getattr(row, 'amount')\n",
    "               # print(\"Good Job:\",getattr(row, 'ts_code'),\"deal amount:\", round(getattr(row, 'amount')/100000, 3),\"亿元\")\n",
    "                stockArea, stockIndustry, stockName = getBasicOfStock(getattr(row, 'ts_code'))\n",
    "                size = zhangtingdata.index.size\n",
    "                zhangtingdata.loc[size] = [getattr(row, 'ts_code'), stockName, getattr(row, 'amount'), stockArea, stockIndustry]\n",
    "                #print(\"\")\n",
    "    print(zhangtingdata[\"industry\"].value_counts())\n",
    "    zhangtingdata.sort_values(\"industry\",inplace=True)\n",
    "    print(zhangtingdata)\n",
    "    print(\"涨停板总量\",round(banTotolAmount/100000, 3),\"亿元\")\n",
    "    print(\"涨停量/市场成交量:\", banTotolAmount/marketTotolAmount)\n",
    "    return zhangtingdata\n",
    "    #zhangtingdata.sort_values(\"amount\",inplace=True)\n",
    "    #print(zhangtingdata)\n",
    "\n",
    "\n"
   ]
  },
  {
   "cell_type": "markdown",
   "metadata": {},
   "source": [
    "# 拉取数据"
   ]
  },
  {
   "cell_type": "code",
   "execution_count": null,
   "metadata": {},
   "outputs": [],
   "source": [
    "tradeDay = today\n",
    "#tradeDay = yesterday\n",
    "\n",
    "oneDayData = pro.daily(**{\n",
    "    \"ts_code\": \"\",\n",
    "    \"trade_date\": tradeDay,\n",
    "    \"start_date\": \"\",\n",
    "    \"end_date\": \"\",\n",
    "    \"offset\": \"\",\n",
    "    \"limit\": \"\"\n",
    "}, fields=[\n",
    "    \"ts_code\",\n",
    "    \"trade_date\",\n",
    "    \"open\",\n",
    "    \"high\",\n",
    "    \"low\",\n",
    "    \"close\",\n",
    "    \"pre_close\",\n",
    "    \"change\",\n",
    "    \"pct_chg\",\n",
    "    \"vol\",\n",
    "    \"amount\"\n",
    "])\n",
    "\n",
    "print(\"today data\")\n",
    "td_zhangting = cal_banban_daily(oneDayData)\n",
    "\n",
    "\n",
    "tradeDay = yesterday\n",
    "oneDayData = pro.daily(**{\n",
    "    \"ts_code\": \"\",\n",
    "    \"trade_date\": tradeDay,\n",
    "    \"start_date\": \"\",\n",
    "    \"end_date\": \"\",\n",
    "    \"offset\": \"\",\n",
    "    \"limit\": \"\"\n",
    "}, fields=[\n",
    "    \"ts_code\",\n",
    "    \"trade_date\",\n",
    "    \"open\",\n",
    "    \"high\",\n",
    "    \"low\",\n",
    "    \"close\",\n",
    "    \"pre_close\",\n",
    "    \"change\",\n",
    "    \"pct_chg\",\n",
    "    \"vol\",\n",
    "    \"amount\"\n",
    "])\n",
    "\n",
    "print(\"yesterday data\")\n",
    "ytd_zhangting = cal_banban_daily(oneDayData)\n",
    "#print(todayData)"
   ]
  },
  {
   "cell_type": "code",
   "execution_count": null,
   "metadata": {},
   "outputs": [],
   "source": [
    "fff = td_zhangting.name.values\n",
    "print(fff)"
   ]
  },
  {
   "cell_type": "code",
   "execution_count": null,
   "metadata": {},
   "outputs": [],
   "source": [
    "count = 0\n",
    "for f in fff:\n",
    "\n",
    "    ggg = ytd_zhangting.where(ytd_zhangting[\"name\"] == f).dropna()\n",
    "    if(ggg.empty == False):\n",
    "        count+=1\n",
    "        print(f)\n",
    "print(count)"
   ]
  },
  {
   "cell_type": "code",
   "execution_count": null,
   "metadata": {},
   "outputs": [],
   "source": []
  },
  {
   "cell_type": "code",
   "execution_count": null,
   "metadata": {},
   "outputs": [],
   "source": []
  },
  {
   "cell_type": "code",
   "execution_count": null,
   "metadata": {},
   "outputs": [],
   "source": []
  }
 ],
 "metadata": {
  "kernelspec": {
   "display_name": "Python 3",
   "language": "python",
   "name": "python3"
  },
  "language_info": {
   "codemirror_mode": {
    "name": "ipython",
    "version": 3
   },
   "file_extension": ".py",
   "mimetype": "text/x-python",
   "name": "python",
   "nbconvert_exporter": "python",
   "pygments_lexer": "ipython3",
   "version": "3.7.4"
  }
 },
 "nbformat": 4,
 "nbformat_minor": 2
}
