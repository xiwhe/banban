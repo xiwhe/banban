{
 "cells": [
  {
   "cell_type": "markdown",
   "metadata": {},
   "source": [
    "# 导入tushare"
   ]
  },
  {
   "cell_type": "code",
   "execution_count": null,
   "metadata": {},
   "outputs": [],
   "source": [
    "import tushare as ts\n",
    "import decimal\n",
    "from decimal import Decimal"
   ]
  },
  {
   "cell_type": "markdown",
   "metadata": {},
   "source": [
    "# 初始化pro接口"
   ]
  },
  {
   "cell_type": "code",
   "execution_count": null,
   "metadata": {},
   "outputs": [],
   "source": [
    "pro = ts.pro_api('ec30ba0eb5f07c64bf98162161fd2009bbd3ca48b7c02f3a81b99f97')"
   ]
  },
  {
   "cell_type": "markdown",
   "metadata": {},
   "source": [
    "# 查询当前所有正常上市交易的股票列表"
   ]
  },
  {
   "cell_type": "code",
   "execution_count": null,
   "metadata": {},
   "outputs": [],
   "source": [
    "stockBasicData = pro.stock_basic(exchange='', list_status='L')"
   ]
  },
  {
   "cell_type": "code",
   "execution_count": null,
   "metadata": {},
   "outputs": [],
   "source": [
    "print(type(stockBasicData.columns.values),stockBasicData.columns.values)"
   ]
  },
  {
   "cell_type": "markdown",
   "metadata": {},
   "source": [
    "# 获取股票所属市场"
   ]
  },
  {
   "cell_type": "code",
   "execution_count": null,
   "metadata": {},
   "outputs": [],
   "source": [
    "def getMarketOfStock(ts_code):\n",
    "    for row in stockBasicData.itertuples():\n",
    "        if getattr(row, 'ts_code') == ts_code:\n",
    "            return getattr(row, 'market')"
   ]
  },
  {
   "cell_type": "markdown",
   "metadata": {},
   "source": [
    "# 获取股票基本信息"
   ]
  },
  {
   "cell_type": "code",
   "execution_count": null,
   "metadata": {},
   "outputs": [],
   "source": [
    "def getBasicOfStock(ts_code):\n",
    "    for row in stockBasicData.itertuples():\n",
    "        if getattr(row, 'ts_code') == ts_code:\n",
    "            print(ts_code, getattr(row, 'name'),getattr(row, 'area'), getattr(row, 'industry'))"
   ]
  },
  {
   "cell_type": "markdown",
   "metadata": {},
   "source": [
    "# 获取涨停板系数"
   ]
  },
  {
   "cell_type": "code",
   "execution_count": null,
   "metadata": {},
   "outputs": [],
   "source": [
    "def getIncrease(market):\n",
    "    if market == '主板':\n",
    "        return '1.1'\n",
    "    elif market == '创业板':\n",
    "        return '1.2'\n",
    "    elif market == '科创板':\n",
    "        return '1.2'\n",
    "    elif market == '北交所':\n",
    "        return '1.3'\n",
    "    else :\n",
    "        return '0'\n",
    "    "
   ]
  },
  {
   "cell_type": "code",
   "execution_count": null,
   "metadata": {},
   "outputs": [],
   "source": []
  },
  {
   "cell_type": "code",
   "execution_count": null,
   "metadata": {},
   "outputs": [],
   "source": [
    "decimal.getcontext().rounding = \"ROUND_HALF_UP\"\n",
    "\n",
    "def isGoodJobCal(openPrice,closePrice, increase):\n",
    "    limitUp = (Decimal(str(openPrice))*Decimal(increase)).quantize(decimal.Decimal(\"0.00\"))\n",
    "    if Decimal(str(closePrice)) == limitUp:\n",
    "        return True\n",
    "    else :\n",
    "        return False"
   ]
  },
  {
   "cell_type": "code",
   "execution_count": null,
   "metadata": {},
   "outputs": [],
   "source": []
  },
  {
   "cell_type": "markdown",
   "metadata": {},
   "source": [
    "# 拉取数据"
   ]
  },
  {
   "cell_type": "code",
   "execution_count": null,
   "metadata": {},
   "outputs": [],
   "source": [
    "todayData = pro.daily(**{\n",
    "    \"ts_code\": \"\",\n",
    "    \"trade_date\": \"\",\n",
    "    \"start_date\": \"\",\n",
    "    \"end_date\": \"\",\n",
    "    \"offset\": \"\",\n",
    "    \"limit\": \"\"\n",
    "}, fields=[\n",
    "    \"ts_code\",\n",
    "    \"trade_date\",\n",
    "    \"open\",\n",
    "    \"high\",\n",
    "    \"low\",\n",
    "    \"close\",\n",
    "    \"pre_close\",\n",
    "    \"change\",\n",
    "    \"pct_chg\",\n",
    "    \"vol\",\n",
    "    \"amount\"\n",
    "])\n",
    "print(todayData)"
   ]
  },
  {
   "cell_type": "code",
   "execution_count": null,
   "metadata": {},
   "outputs": [],
   "source": [
    "for row in todayData.itertuples():\n",
    "    if getattr(row, 'high') == getattr(row, 'close'):\n",
    "        if isGoodJobCal(getattr(row, 'pre_close'), getattr(row, 'close'),getIncrease(getMarketOfStock(getattr(row, 'ts_code')))):\n",
    "            print(\"Good Job:\",getattr(row, 'ts_code'),\"deal amount:\", round(getattr(row, 'amount')/100000, 3),\"亿元\")\n",
    "            getBasicOfStock(getattr(row, 'ts_code'))\n",
    "            print(\"\")"
   ]
  },
  {
   "cell_type": "code",
   "execution_count": null,
   "metadata": {},
   "outputs": [],
   "source": [
    "  "
   ]
  }
 ],
 "metadata": {
  "kernelspec": {
   "display_name": "Python 3",
   "language": "python",
   "name": "python3"
  },
  "language_info": {
   "codemirror_mode": {
    "name": "ipython",
    "version": 3
   },
   "file_extension": ".py",
   "mimetype": "text/x-python",
   "name": "python",
   "nbconvert_exporter": "python",
   "pygments_lexer": "ipython3",
   "version": "3.7.4"
  }
 },
 "nbformat": 4,
 "nbformat_minor": 2
}
